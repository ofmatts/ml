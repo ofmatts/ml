{
 "cells": [
  {
   "cell_type": "markdown",
   "id": "8559ab53",
   "metadata": {},
   "source": [
    "# Задание\n",
    "\n",
    "* Собрать информацию о всех строящихся объектах на сайте \"наш.дом.рф\"\n",
    "* Cохранить ее в pandas dataframe\n",
    "* Cохранить pandas dataframe в excel\n",
    "* Cохранить pandas dataframe в pickle\n",
    "* Cохранить pandas dataframe в БД"
   ]
  },
  {
   "cell_type": "code",
   "execution_count": 1,
   "id": "61600f1a",
   "metadata": {},
   "outputs": [],
   "source": [
    "import requests"
   ]
  },
  {
   "cell_type": "code",
   "execution_count": 52,
   "id": "884fe796",
   "metadata": {},
   "outputs": [
    {
     "name": "stdout",
     "output_type": "stream",
     "text": [
      "last\n"
     ]
    }
   ],
   "source": [
    "import pandas as pd \n",
    "df_result = pd.DataFrame()\n",
    "\n",
    "limit_ = 500 # количество объектов в выдаче\n",
    "offset_ = 1 # размер шага\n",
    "\n",
    "while(1):\n",
    "    url = f'https://xn--80az8a.xn--d1aqf.xn--p1ai/%D1%81%D0%B5%D1%80%D0%B2%D0%B8%D1%81%D1%8B/api/kn/object?offset={offset_}&limit={limit_}&sortField=devId.devShortCleanNm&sortType=asc&objStatus=0'\n",
    "    try:\n",
    "        res = requests.get(url)\n",
    "        objects_data = res.json()\n",
    "        objects_data.get('data').get('list')[0]  \n",
    "    # сервер нас послал \n",
    "    except Exception as e:\n",
    "        print(e)\n",
    "        break \n",
    "    df_part = pd.json_normalize(res.json()['data']['list']) \n",
    "    df_result = pd.concat([df_part, df_result])\n",
    "    # сервер прислал последнюю страницу\n",
    "    if len(objects_data.get('data').get('list')) < limit_: \n",
    "        print('last')\n",
    "        break  \n",
    "    offset_ += limit_"
   ]
  },
  {
   "cell_type": "code",
   "execution_count": 64,
   "id": "1ff2d494",
   "metadata": {},
   "outputs": [
    {
     "data": {
      "text/plain": [
       "Строящиеся    11649\n",
       "Name: siteStatus, dtype: int64"
      ]
     },
     "execution_count": 64,
     "metadata": {},
     "output_type": "execute_result"
    }
   ],
   "source": [
    "df_result.siteStatus.value_counts()"
   ]
  },
  {
   "cell_type": "markdown",
   "id": "26769ca8",
   "metadata": {},
   "source": [
    "## сохраняем в эксель"
   ]
  },
  {
   "cell_type": "code",
   "execution_count": 66,
   "id": "57d2c046",
   "metadata": {},
   "outputs": [],
   "source": [
    "df_result.to_excel('домрф.xlsx')"
   ]
  },
  {
   "cell_type": "markdown",
   "id": "ee3d4a51",
   "metadata": {},
   "source": [
    "## сохраняем в пикл"
   ]
  },
  {
   "cell_type": "code",
   "execution_count": 67,
   "id": "082f59e9",
   "metadata": {},
   "outputs": [],
   "source": [
    "df_result.to_pickle('домрф')"
   ]
  },
  {
   "cell_type": "markdown",
   "id": "5ad5c440",
   "metadata": {},
   "source": [
    "## сохраняем в DB"
   ]
  },
  {
   "cell_type": "code",
   "execution_count": 69,
   "id": "20228750",
   "metadata": {},
   "outputs": [],
   "source": [
    "import pandas as pd\n",
    "import sqlite3\n",
    "\n",
    "conn = sqlite3.connect('test_database')"
   ]
  },
  {
   "cell_type": "code",
   "execution_count": 70,
   "id": "6b32193c",
   "metadata": {},
   "outputs": [],
   "source": [
    "df_result.to_sql('builds', conn, if_exists='replace', index = False)\n",
    "conn.commit()\n",
    "conn.close()"
   ]
  }
 ],
 "metadata": {
  "kernelspec": {
   "display_name": "Python 3 (ipykernel)",
   "language": "python",
   "name": "python3"
  },
  "language_info": {
   "codemirror_mode": {
    "name": "ipython",
    "version": 3
   },
   "file_extension": ".py",
   "mimetype": "text/x-python",
   "name": "python",
   "nbconvert_exporter": "python",
   "pygments_lexer": "ipython3",
   "version": "3.10.9"
  }
 },
 "nbformat": 4,
 "nbformat_minor": 5
}
