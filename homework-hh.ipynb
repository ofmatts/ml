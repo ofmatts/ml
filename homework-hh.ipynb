{
 "cells": [
  {
   "cell_type": "code",
   "execution_count": 1,
   "id": "95759cd1",
   "metadata": {},
   "outputs": [],
   "source": [
    "# Загрузка библиотек\n",
    "import requests\n",
    "from tqdm.auto import tqdm"
   ]
  },
  {
   "cell_type": "code",
   "execution_count": 2,
   "id": "4a1d9fa4",
   "metadata": {},
   "outputs": [],
   "source": [
    "import pandas as pd\n",
    "import sqlite3\n",
    "\n",
    "conn = sqlite3.connect('test_database')"
   ]
  },
  {
   "cell_type": "code",
   "execution_count": 4,
   "id": "5b01a0d1",
   "metadata": {},
   "outputs": [],
   "source": [
    "# Идентификатор компании\n",
    "sber = '3529'\n",
    "# Номер страницы\n",
    "page = 1\n",
    "# Количество вакансий на страницу\n",
    "num_per_page = 100\n",
    "# Идентификатор области\n",
    "moscow = 1\n",
    "url = f'https://api.hh.ru/vacancies?employer_id={sber}&page={page}&per_page={num_per_page}&area={moscow}'\n",
    "\n"
   ]
  },
  {
   "cell_type": "code",
   "execution_count": 5,
   "id": "05dd0c8c",
   "metadata": {},
   "outputs": [
    {
     "data": {
      "text/plain": [
       "16"
      ]
     },
     "execution_count": 5,
     "metadata": {},
     "output_type": "execute_result"
    }
   ],
   "source": [
    "# Отправляем GET запрос в api.hh.ru\n",
    "res = requests.get(url)\n",
    "# Преобразовываем ответ api из JSON в словарь dict()\n",
    "vacancies = res.json()\n",
    "# Получаем количество страниц по результатам запроса\n",
    "num_pages = vacancies.get('pages')\n",
    "num_pages"
   ]
  }
 ],
 "metadata": {
  "kernelspec": {
   "display_name": "Python 3 (ipykernel)",
   "language": "python",
   "name": "python3"
  },
  "language_info": {
   "codemirror_mode": {
    "name": "ipython",
    "version": 3
   },
   "file_extension": ".py",
   "mimetype": "text/x-python",
   "name": "python",
   "nbconvert_exporter": "python",
   "pygments_lexer": "ipython3",
   "version": "3.10.9"
  }
 },
 "nbformat": 4,
 "nbformat_minor": 5
}
