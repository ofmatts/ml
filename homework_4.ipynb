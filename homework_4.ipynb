{
 "cells": [
  {
   "cell_type": "code",
   "execution_count": 83,
   "id": "db74fd8b",
   "metadata": {},
   "outputs": [],
   "source": [
    "import pandas as pd\n",
    "import numpy as np\n",
    "import warnings\n",
    "import requests\n",
    "import io # for web-download\n",
    "import re # for data processing\n",
    "warnings.filterwarnings('ignore')"
   ]
  },
  {
   "cell_type": "markdown",
   "id": "65c81f6f",
   "metadata": {},
   "source": [
    "## Задача 1\n",
    "На основании данных портала \"Открытые данные России\" о результатах Химического анализа родника в Нескучном саду https://data.gov.ru/opendata/7708660670-rodnik-neskuchniy-sad средствами библиотеки Pandas сформируйте поле выводов по каждому анализирумомому параметру. Например, по показателю pH получен результат 8.4 единицы pH при нормативе от 6 до 9 единиц pH. Т.о. по данному показателю результат анализа в норме. Для решения задачи необходимо программно \"прочитать и понять\" значение столбца \"Норматив\" и выделенное численное значение сравнить с нормативом согласно логике норматива. Например, 6 >= pH >= 9. В итоговом DataFrame столбец \"Показатель\" сделайте индексным.\n",
    "\n",
    "Загзрузка DataFrame выполняется непосредственно c сайта \"Открытые данные России\" https://data.gov.ru/opendata/7708660670-rodnik-neskuchniy-sad/data-20160608T1215-structure-20160608T1215.csv (см. код ниже)."
   ]
  },
  {
   "cell_type": "code",
   "execution_count": 139,
   "id": "7716af98",
   "metadata": {},
   "outputs": [
    {
     "data": {
      "text/plain": [
       "'2'"
      ]
     },
     "execution_count": 139,
     "metadata": {},
     "output_type": "execute_result"
    }
   ],
   "source": []
  },
  {
   "cell_type": "code",
   "execution_count": 158,
   "id": "fcf787ee",
   "metadata": {},
   "outputs": [
    {
     "data": {
      "text/plain": [
       "'9'"
      ]
     },
     "execution_count": 158,
     "metadata": {},
     "output_type": "execute_result"
    }
   ],
   "source": []
  },
  {
   "cell_type": "code",
   "execution_count": 197,
   "id": "a53e0c04",
   "metadata": {},
   "outputs": [
    {
     "data": {
      "text/html": [
       "<style type=\"text/css\">\n",
       "#T_a841e_row0_col3, #T_a841e_row1_col3, #T_a841e_row2_col3, #T_a841e_row3_col3, #T_a841e_row4_col3, #T_a841e_row5_col3, #T_a841e_row6_col3, #T_a841e_row7_col3, #T_a841e_row8_col3, #T_a841e_row9_col3, #T_a841e_row10_col3, #T_a841e_row12_col3 {\n",
       "  width: 10em;\n",
       "  background: linear-gradient(90deg, green 100.0%, transparent 100.0%);\n",
       "}\n",
       "#T_a841e_row11_col3, #T_a841e_row13_col3 {\n",
       "  width: 10em;\n",
       "}\n",
       "</style>\n",
       "<table id=\"T_a841e\">\n",
       "  <thead>\n",
       "    <tr>\n",
       "      <th class=\"blank level0\" >&nbsp;</th>\n",
       "      <th id=\"T_a841e_level0_col0\" class=\"col_heading level0 col0\" >Единица измерений</th>\n",
       "      <th id=\"T_a841e_level0_col1\" class=\"col_heading level0 col1\" >Результат анализа</th>\n",
       "      <th id=\"T_a841e_level0_col2\" class=\"col_heading level0 col2\" >Норматив</th>\n",
       "      <th id=\"T_a841e_level0_col3\" class=\"col_heading level0 col3\" >check</th>\n",
       "    </tr>\n",
       "    <tr>\n",
       "      <th class=\"index_name level0\" >Показатель</th>\n",
       "      <th class=\"blank col0\" >&nbsp;</th>\n",
       "      <th class=\"blank col1\" >&nbsp;</th>\n",
       "      <th class=\"blank col2\" >&nbsp;</th>\n",
       "      <th class=\"blank col3\" >&nbsp;</th>\n",
       "    </tr>\n",
       "  </thead>\n",
       "  <tbody>\n",
       "    <tr>\n",
       "      <th id=\"T_a841e_level0_row0\" class=\"row_heading level0 row0\" >pH</th>\n",
       "      <td id=\"T_a841e_row0_col0\" class=\"data row0 col0\" >единицы pH</td>\n",
       "      <td id=\"T_a841e_row0_col1\" class=\"data row0 col1\" >8.4</td>\n",
       "      <td id=\"T_a841e_row0_col2\" class=\"data row0 col2\" >в пределах 6-9</td>\n",
       "      <td id=\"T_a841e_row0_col3\" class=\"data row0 col3\" >True</td>\n",
       "    </tr>\n",
       "    <tr>\n",
       "      <th id=\"T_a841e_level0_row1\" class=\"row_heading level0 row1\" >Запах</th>\n",
       "      <td id=\"T_a841e_row1_col0\" class=\"data row1 col0\" >баллы</td>\n",
       "      <td id=\"T_a841e_row1_col1\" class=\"data row1 col1\" >1</td>\n",
       "      <td id=\"T_a841e_row1_col2\" class=\"data row1 col2\" >не более 2-3</td>\n",
       "      <td id=\"T_a841e_row1_col3\" class=\"data row1 col3\" >True</td>\n",
       "    </tr>\n",
       "    <tr>\n",
       "      <th id=\"T_a841e_level0_row2\" class=\"row_heading level0 row2\" >Цветность</th>\n",
       "      <td id=\"T_a841e_row2_col0\" class=\"data row2 col0\" >градусы</td>\n",
       "      <td id=\"T_a841e_row2_col1\" class=\"data row2 col1\" >б/цвета</td>\n",
       "      <td id=\"T_a841e_row2_col2\" class=\"data row2 col2\" >не более 30</td>\n",
       "      <td id=\"T_a841e_row2_col3\" class=\"data row2 col3\" >True</td>\n",
       "    </tr>\n",
       "    <tr>\n",
       "      <th id=\"T_a841e_level0_row3\" class=\"row_heading level0 row3\" >Жёсткость</th>\n",
       "      <td id=\"T_a841e_row3_col0\" class=\"data row3 col0\" >мг-эквл/дм3</td>\n",
       "      <td id=\"T_a841e_row3_col1\" class=\"data row3 col1\" >9.199999999999999</td>\n",
       "      <td id=\"T_a841e_row3_col2\" class=\"data row3 col2\" >в пределах 7-10</td>\n",
       "      <td id=\"T_a841e_row3_col3\" class=\"data row3 col3\" >True</td>\n",
       "    </tr>\n",
       "    <tr>\n",
       "      <th id=\"T_a841e_level0_row4\" class=\"row_heading level0 row4\" >Аммиак и аммоний-ион (по азоту)</th>\n",
       "      <td id=\"T_a841e_row4_col0\" class=\"data row4 col0\" >мг/дм3</td>\n",
       "      <td id=\"T_a841e_row4_col1\" class=\"data row4 col1\" >0.42</td>\n",
       "      <td id=\"T_a841e_row4_col2\" class=\"data row4 col2\" >не более 1,5</td>\n",
       "      <td id=\"T_a841e_row4_col3\" class=\"data row4 col3\" >True</td>\n",
       "    </tr>\n",
       "    <tr>\n",
       "      <th id=\"T_a841e_level0_row5\" class=\"row_heading level0 row5\" >Нитриты (по NO2)</th>\n",
       "      <td id=\"T_a841e_row5_col0\" class=\"data row5 col0\" >мг/дм3</td>\n",
       "      <td id=\"T_a841e_row5_col1\" class=\"data row5 col1\" >0.017</td>\n",
       "      <td id=\"T_a841e_row5_col2\" class=\"data row5 col2\" >не более 3,3</td>\n",
       "      <td id=\"T_a841e_row5_col3\" class=\"data row5 col3\" >True</td>\n",
       "    </tr>\n",
       "    <tr>\n",
       "      <th id=\"T_a841e_level0_row6\" class=\"row_heading level0 row6\" >Нитраты (по NO3)</th>\n",
       "      <td id=\"T_a841e_row6_col0\" class=\"data row6 col0\" >мг/дм3</td>\n",
       "      <td id=\"T_a841e_row6_col1\" class=\"data row6 col1\" >24</td>\n",
       "      <td id=\"T_a841e_row6_col2\" class=\"data row6 col2\" >не более 45</td>\n",
       "      <td id=\"T_a841e_row6_col3\" class=\"data row6 col3\" >True</td>\n",
       "    </tr>\n",
       "    <tr>\n",
       "      <th id=\"T_a841e_level0_row7\" class=\"row_heading level0 row7\" >Фосфаты (P)</th>\n",
       "      <td id=\"T_a841e_row7_col0\" class=\"data row7 col0\" >мг/дм3</td>\n",
       "      <td id=\"T_a841e_row7_col1\" class=\"data row7 col1\" >0.36</td>\n",
       "      <td id=\"T_a841e_row7_col2\" class=\"data row7 col2\" >не более 3,5</td>\n",
       "      <td id=\"T_a841e_row7_col3\" class=\"data row7 col3\" >True</td>\n",
       "    </tr>\n",
       "    <tr>\n",
       "      <th id=\"T_a841e_level0_row8\" class=\"row_heading level0 row8\" >Хлориды (Cl)</th>\n",
       "      <td id=\"T_a841e_row8_col0\" class=\"data row8 col0\" >мг/дм3</td>\n",
       "      <td id=\"T_a841e_row8_col1\" class=\"data row8 col1\" >200</td>\n",
       "      <td id=\"T_a841e_row8_col2\" class=\"data row8 col2\" >не более 350</td>\n",
       "      <td id=\"T_a841e_row8_col3\" class=\"data row8 col3\" >True</td>\n",
       "    </tr>\n",
       "    <tr>\n",
       "      <th id=\"T_a841e_level0_row9\" class=\"row_heading level0 row9\" >Сульфаты (SO4)</th>\n",
       "      <td id=\"T_a841e_row9_col0\" class=\"data row9 col0\" >мг/дм3</td>\n",
       "      <td id=\"T_a841e_row9_col1\" class=\"data row9 col1\" >189.5</td>\n",
       "      <td id=\"T_a841e_row9_col2\" class=\"data row9 col2\" >не более 500</td>\n",
       "      <td id=\"T_a841e_row9_col3\" class=\"data row9 col3\" >True</td>\n",
       "    </tr>\n",
       "    <tr>\n",
       "      <th id=\"T_a841e_level0_row10\" class=\"row_heading level0 row10\" >Железо (включая хлорное железо) по Fe</th>\n",
       "      <td id=\"T_a841e_row10_col0\" class=\"data row10 col0\" >мг/дм3</td>\n",
       "      <td id=\"T_a841e_row10_col1\" class=\"data row10 col1\" >0.019</td>\n",
       "      <td id=\"T_a841e_row10_col2\" class=\"data row10 col2\" >не более 0,3</td>\n",
       "      <td id=\"T_a841e_row10_col3\" class=\"data row10 col3\" >True</td>\n",
       "    </tr>\n",
       "    <tr>\n",
       "      <th id=\"T_a841e_level0_row11\" class=\"row_heading level0 row11\" >Нефть</th>\n",
       "      <td id=\"T_a841e_row11_col0\" class=\"data row11 col0\" >мг/дм3</td>\n",
       "      <td id=\"T_a841e_row11_col1\" class=\"data row11 col1\" >0.55</td>\n",
       "      <td id=\"T_a841e_row11_col2\" class=\"data row11 col2\" >не более 0,3</td>\n",
       "      <td id=\"T_a841e_row11_col3\" class=\"data row11 col3\" >False</td>\n",
       "    </tr>\n",
       "    <tr>\n",
       "      <th id=\"T_a841e_level0_row12\" class=\"row_heading level0 row12\" >Общая минерализация (сухой остаток)</th>\n",
       "      <td id=\"T_a841e_row12_col0\" class=\"data row12 col0\" >мг/дм3</td>\n",
       "      <td id=\"T_a841e_row12_col1\" class=\"data row12 col1\" >590</td>\n",
       "      <td id=\"T_a841e_row12_col2\" class=\"data row12 col2\" >не более 1000</td>\n",
       "      <td id=\"T_a841e_row12_col3\" class=\"data row12 col3\" >True</td>\n",
       "    </tr>\n",
       "    <tr>\n",
       "      <th id=\"T_a841e_level0_row13\" class=\"row_heading level0 row13\" >Окисляемость перманганатная</th>\n",
       "      <td id=\"T_a841e_row13_col0\" class=\"data row13 col0\" >мг/дм3</td>\n",
       "      <td id=\"T_a841e_row13_col1\" class=\"data row13 col1\" >2</td>\n",
       "      <td id=\"T_a841e_row13_col2\" class=\"data row13 col2\" >не более 0,5</td>\n",
       "      <td id=\"T_a841e_row13_col3\" class=\"data row13 col3\" >False</td>\n",
       "    </tr>\n",
       "  </tbody>\n",
       "</table>\n"
      ],
      "text/plain": [
       "<pandas.io.formats.style.Styler at 0x13e4362e0>"
      ]
     },
     "execution_count": 197,
     "metadata": {},
     "output_type": "execute_result"
    }
   ],
   "source": [
    "# headers={\n",
    "#     'User-Agent': 'Mozilla/5.0 (X11; Ubuntu; Linux x86_64; rv:52.0) Gecko/20100101 Firefox/52.0',\n",
    "# }\n",
    "# def get_content(url):\n",
    "#     with requests.Session() as req:\n",
    "#         req.headers.update(headers)\n",
    "#         r = req.get(url).content\n",
    "#     return r\n",
    "\n",
    "# url =\"https://data.gov.ru/opendata/7708660670-rodnik-neskuchniy-sad/data-20160608T1215-structure-20160608T1215.csv\"\n",
    "# s = get_content(url)\n",
    "\n",
    "# df=pd.read_csv(io.StringIO(s.decode('UTF8')))\n",
    "\n",
    "## DOESNT WORK \n",
    "\n",
    "\n",
    "### Если не работает загрузка on-line\n",
    "df=pd.read_csv(\"Химический анализ родника в Нескучном саду.csv\", sep=';')\n",
    "df['Норматив']\n",
    "\n",
    "def test_result(row):\n",
    "    \"\"\"парсит значение норматива и отдает true, если значение проходит\"\"\"\n",
    "    result = re.sub('[^,\\.0-9]', '', row['Результат анализа']) \n",
    "    result = 0.0 if result == '' else float(result)\n",
    "    if re.match('в пределах \\d{1,}(,\\d{1,}|)-\\d{1,}(,\\d{1,}|)', row['Норматив']):\n",
    "        n_min = float(re.sub('в пределах (\\d{1,}(,\\d{1,}|))-(\\d{1,}(,\\d{1,}|))', r'\\1', row['Норматив']))\n",
    "        n_max = float(re.sub('в пределах (\\d{1,}(,\\d{1,}|))-(\\d{1,}(,\\d{1,}|))', r'\\3', row['Норматив']))\n",
    "        return n_min <= float(row['Результат анализа']) and  float(row['Результат анализа'])<= n_max\n",
    "    if re.match('не более \\d{1,}(,\\d{1,}|)(-\\d{1,},\\d{1,}|)', row['Норматив']): \n",
    "        n_min = float(re.sub(\"не более (\\d{1,}(,\\d{1,}|))(-(\\d{1,}(|,\\d{1,}))|)\", r'\\1', row['Норматив']).replace(',', '.'))\n",
    "        n_max = re.sub(\"не более (\\d{1,}(,\\d{1,}|))(-(\\d{1,}(|,\\d{1,}))|)\", r'\\4', row['Норматив'])\n",
    "        # второго числа может не быть\n",
    "        n_max = 0.0 if n_max == '' else float(n_max) \n",
    "        return result <= max(n_min, n_max)\n",
    "    \n",
    "df=df.set_index('Показатель')\n",
    "df['check'] = df.apply(lambda x: test_result(x), axis=1)\n",
    "df.style.bar(subset=['check'], color = 'green')"
   ]
  },
  {
   "cell_type": "markdown",
   "id": "c739a14d",
   "metadata": {},
   "source": [
    "## Задача 2\n",
    "В ящике 5 апельсинов и 4 яблока. Наудачу выбираются 3 фрукта. Какова вероятность, что все три фрукта – апельсины?\n",
    "\n",
    "В интернете полученный аналитически ответ 0.119. Подтверждается ли он эксперементально?"
   ]
  },
  {
   "cell_type": "code",
   "execution_count": 6,
   "id": "f655fa89",
   "metadata": {},
   "outputs": [],
   "source": [
    "box = 5 * ['апельсин'] + 4 * ['яблок']"
   ]
  },
  {
   "cell_type": "code",
   "execution_count": 1,
   "id": "93c7203c",
   "metadata": {},
   "outputs": [],
   "source": [
    "from tqdm import tqdm"
   ]
  },
  {
   "cell_type": "code",
   "execution_count": 8,
   "id": "7abbe627",
   "metadata": {},
   "outputs": [
    {
     "name": "stderr",
     "output_type": "stream",
     "text": [
      "100%|███████████████████████████████████████████████████████████████████████████████████████████████████████████████████████████████████████████████████████████████████████████████████████| 200/200 [00:44<00:00,  4.47it/s]\n"
     ]
    }
   ],
   "source": [
    "result = []\n",
    "for _ in tqdm(range(0, 200)):\n",
    "    df = pd.DataFrame(map(lambda x: list(np.random.choice(box, size = 3, replace=False)), range(0,10000)))\n",
    "    result.append(df[(df[0] == 'апельсин' ) & (df[1] == df[0]) & (df[2]==df[0])].shape[0] / df.shape[0])"
   ]
  },
  {
   "cell_type": "code",
   "execution_count": null,
   "id": "11a8e50e",
   "metadata": {},
   "outputs": [],
   "source": []
  },
  {
   "cell_type": "code",
   "execution_count": 189,
   "id": "0e02e1ba",
   "metadata": {},
   "outputs": [],
   "source": [
    "import seaborn as sns"
   ]
  },
  {
   "cell_type": "code",
   "execution_count": 12,
   "id": "24d7c155",
   "metadata": {},
   "outputs": [
    {
     "data": {
      "text/plain": [
       "<AxesSubplot:ylabel='Density'>"
      ]
     },
     "execution_count": 12,
     "metadata": {},
     "output_type": "execute_result"
    },
    {
     "data": {
      "image/png": "[encoded data removed]",
      "text/plain": [
       "<Figure size 432x288 with 1 Axes>"
      ]
     },
     "metadata": {
      "needs_background": "light"
     },
     "output_type": "display_data"
    }
   ],
   "source": [
    "sns.distplot(result)\n",
    "sns.lineplot([.119, .119], [0, 120], marker = '.')"
   ]
  },
  {
   "cell_type": "markdown",
   "id": "03728b92",
   "metadata": {},
   "source": [
    "как видим, нормально так подтверждается с некоторым разбросом :) "
   ]
  },
  {
   "cell_type": "markdown",
   "id": "70e0f5a1",
   "metadata": {},
   "source": [
    "## Задача 3\n",
    "Мастер, имея 10 деталей, из которых 3 – нестандартных, проверяет детали одну за другой, пока ему не попадется стандартная. Какова вероятность, что он проверит ровно две детали?\n",
    "\n",
    "В интернете полученный аналитически ответ 7/30 или 0.23333. Подтверждается ли он эксперементально?"
   ]
  },
  {
   "cell_type": "code",
   "execution_count": 76,
   "id": "a448a09b",
   "metadata": {},
   "outputs": [],
   "source": [
    "import numpy as np, pandas as pd \n",
    "import seaborn as sns \n",
    "from tqdm import tqdm"
   ]
  },
  {
   "cell_type": "code",
   "execution_count": 77,
   "id": "5025ec36",
   "metadata": {},
   "outputs": [
    {
     "name": "stderr",
     "output_type": "stream",
     "text": [
      "100%|███████████████████████████████████████████████████████████████████████████████████████████████████████████████████████████████████████████████████████████████████████████████████████| 200/200 [00:46<00:00,  4.34it/s]\n"
     ]
    }
   ],
   "source": [
    "def takeAttempt():\n",
    "    attempt = list(np.random.choice((['sd'] * 7 + ['unsd'] * 3), size = 2, replace=False))\n",
    "    if 'sd' in attempt and 'unsd' in attempt: \n",
    "        return 1\n",
    "    return 0\n",
    "\n",
    "result = []\n",
    "for _ in tqdm(range(0,200)):\n",
    "    result_part = []\n",
    "    for i in range(0,10000):\n",
    "        result_part.append(takeAttempt())\n",
    "\n",
    "    result.append(np.sum(result_part) / len(result_part))"
   ]
  },
  {
   "cell_type": "code",
   "execution_count": 79,
   "id": "485575f1",
   "metadata": {
    "scrolled": false
   },
   "outputs": [
    {
     "name": "stderr",
     "output_type": "stream",
     "text": [
      "/usr/local/lib/python3.9/site-packages/seaborn/distributions.py:2619: FutureWarning: `distplot` is a deprecated function and will be removed in a future version. Please adapt your code to use either `displot` (a figure-level function with similar flexibility) or `histplot` (an axes-level function for histograms).\n",
      "  warnings.warn(msg, FutureWarning)\n",
      "/usr/local/lib/python3.9/site-packages/seaborn/_decorators.py:36: FutureWarning: Pass the following variables as keyword args: x, y. From version 0.12, the only valid positional argument will be `data`, and passing other arguments without an explicit keyword will result in an error or misinterpretation.\n",
      "  warnings.warn(\n"
     ]
    },
    {
     "ename": "NameError",
     "evalue": "name 'plt' is not defined",
     "output_type": "error",
     "traceback": [
      "\u001b[0;31m---------------------------------------------------------------------------\u001b[0m",
      "\u001b[0;31mNameError\u001b[0m                                 Traceback (most recent call last)",
      "Input \u001b[0;32mIn [79]\u001b[0m, in \u001b[0;36m<cell line: 3>\u001b[0;34m()\u001b[0m\n\u001b[1;32m      1\u001b[0m sns\u001b[38;5;241m.\u001b[39mdistplot(result)\n\u001b[1;32m      2\u001b[0m sns\u001b[38;5;241m.\u001b[39mlineplot([\u001b[38;5;241m.465\u001b[39m, \u001b[38;5;241m.465\u001b[39m], [\u001b[38;5;241m0\u001b[39m, \u001b[38;5;241m80\u001b[39m], marker \u001b[38;5;241m=\u001b[39m \u001b[38;5;124m'\u001b[39m\u001b[38;5;124m.\u001b[39m\u001b[38;5;124m'\u001b[39m)\n\u001b[0;32m----> 3\u001b[0m \u001b[43mplt\u001b[49m\u001b[38;5;241m.\u001b[39mshow()\n",
      "\u001b[0;31mNameError\u001b[0m: name 'plt' is not defined"
     ]
    },
    {
     "data": {
      "image/png": "[encoded data removed]",
      "text/plain": [
       "<Figure size 432x288 with 1 Axes>"
      ]
     },
     "metadata": {
      "needs_background": "light"
     },
     "output_type": "display_data"
    }
   ],
   "source": [
    "sns.distplot(result)\n",
    "sns.lineplot([.465, .465], [0, 80], marker = '.')\n",
    "plt.show()"
   ]
  },
  {
   "cell_type": "markdown",
   "id": "0fa11dca",
   "metadata": {},
   "source": [
    "мы видим, что аналитический ответ не совпадает с эмпирическим. "
   ]
  }
 ],
 "metadata": {
  "kernelspec": {
   "display_name": "Python 3 (ipykernel)",
   "language": "python",
   "name": "python3"
  },
  "language_info": {
   "codemirror_mode": {
    "name": "ipython",
    "version": 3
   },
   "file_extension": ".py",
   "mimetype": "text/x-python",
   "name": "python",
   "nbconvert_exporter": "python",
   "pygments_lexer": "ipython3",
   "version": "3.9.13"
  }
 },
 "nbformat": 4,
 "nbformat_minor": 5
}
