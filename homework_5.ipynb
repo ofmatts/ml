{
 "cells": [
  {
   "cell_type": "code",
   "execution_count": 1,
   "id": "48c972a8",
   "metadata": {},
   "outputs": [],
   "source": [
    "import pandas as pd\n",
    "import numpy as np\n",
    "import matplotlib.pyplot as plt\n",
    "import scipy.stats as sts\n",
    "import math\n",
    "%matplotlib inline\n",
    "# import statsmodels.stats.weightstats as ssw"
   ]
  },
  {
   "cell_type": "code",
   "execution_count": 2,
   "id": "bfe6222a",
   "metadata": {},
   "outputs": [
    {
     "data": {
      "image/png": "[encoded data removed]",
      "text/plain": [
       "<Figure size 432x288 with 1 Axes>"
      ]
     },
     "metadata": {
      "needs_background": "light"
     },
     "output_type": "display_data"
    }
   ],
   "source": [
    "import numpy as np\n",
    "from scipy.stats import chi2\n",
    "import matplotlib.pyplot as plt\n",
    "fig, ax = plt.subplots(1, 1)"
   ]
  },
  {
   "cell_type": "code",
   "execution_count": 5,
   "id": "d1d60590",
   "metadata": {},
   "outputs": [
    {
     "ename": "NameError",
     "evalue": "name 'chi2' is not defined",
     "output_type": "error",
     "traceback": [
      "\u001b[0;31m---------------------------------------------------------------------------\u001b[0m",
      "\u001b[0;31mNameError\u001b[0m                                 Traceback (most recent call last)",
      "Input \u001b[0;32mIn [5]\u001b[0m, in \u001b[0;36m<cell line: 2>\u001b[0;34m()\u001b[0m\n\u001b[1;32m      1\u001b[0m df \u001b[38;5;241m=\u001b[39m \u001b[38;5;241m55\u001b[39m\n\u001b[0;32m----> 2\u001b[0m mean, var, skew, kurt \u001b[38;5;241m=\u001b[39m \u001b[43mchi2\u001b[49m\u001b[38;5;241m.\u001b[39mstats(df, moments\u001b[38;5;241m=\u001b[39m\u001b[38;5;124m'\u001b[39m\u001b[38;5;124mmvsk\u001b[39m\u001b[38;5;124m'\u001b[39m)\n",
      "\u001b[0;31mNameError\u001b[0m: name 'chi2' is not defined"
     ]
    }
   ],
   "source": [
    "df = 55\n",
    "mean, var, skew, kurt = chi2.stats(df, moments='mvsk')"
   ]
  },
  {
   "cell_type": "code",
   "execution_count": 9,
   "id": "1de40dee",
   "metadata": {},
   "outputs": [
    {
     "data": {
      "text/plain": [
       "array([ 1.44396713, -1.59603248,  1.84762791, -0.08296854, -2.31725716,\n",
       "        0.12084973, -0.78863629, -0.61328812, -2.40558862,  1.30193404,\n",
       "        0.17264477,  0.25769568, -0.52788135, -0.41739509,  1.76273291,\n",
       "        0.06335358,  0.82302435, -1.4538705 , -2.10715999,  0.48644975,\n",
       "       -1.83573226,  1.84506312, -0.06345926, -0.53918581, -0.79592037,\n",
       "       -1.04060625, -0.0417474 , -0.99632713, -0.1372016 ,  1.12808814,\n",
       "       -0.98235154,  1.83589409,  0.80863478,  1.21943985,  0.2767825 ,\n",
       "       -0.53869146, -0.14860605,  0.32248525, -1.64440358, -1.02086758,\n",
       "       -0.34978595,  0.089712  , -0.50285972, -1.46205991,  1.01012943,\n",
       "        0.54602038,  0.64608531,  0.80073914,  1.42995727, -0.13436444,\n",
       "       -0.51271042, -0.06577761, -1.22853318,  0.6934425 , -1.2412175 ,\n",
       "       -0.00955524, -0.94716321, -0.07238916,  0.02559562, -0.60513583,\n",
       "        1.13812136, -1.11297156, -0.91360706, -0.24227853,  0.63524884,\n",
       "        1.84882246, -1.22037462, -0.90799441, -0.08221805,  0.12594036,\n",
       "        1.42195382,  0.47215938, -1.70076694, -0.93492648,  0.51364492,\n",
       "        1.22240817, -0.29030664, -0.48182471,  1.64648642,  0.53262856,\n",
       "       -2.03684578, -1.39702431,  0.41965354, -0.95820418,  0.92207487,\n",
       "        0.00801282, -0.57970368, -2.02433243, -1.43434653, -0.5855883 ,\n",
       "        0.72479795, -1.1866287 , -1.03422738,  0.43661679,  0.97073824,\n",
       "       -0.38909792,  0.31300465, -0.76055295, -1.62468568, -0.29852406])"
      ]
     },
     "execution_count": 9,
     "metadata": {},
     "output_type": "execute_result"
    }
   ],
   "source": [
    "cosine_rv.rvs(100)"
   ]
  },
  {
   "cell_type": "code",
   "execution_count": 18,
   "id": "9565cb9e",
   "metadata": {},
   "outputs": [
    {
     "data": {
      "text/plain": [
       "<scipy.stats._continuous_distns.chi2_gen at 0x1384ab760>"
      ]
     },
     "execution_count": 18,
     "metadata": {},
     "output_type": "execute_result"
    }
   ],
   "source": [
    "sts.chi2"
   ]
  },
  {
   "cell_type": "code",
   "execution_count": 60,
   "id": "569e1f18",
   "metadata": {},
   "outputs": [],
   "source": [
    "?sts.chi2.rvs"
   ]
  },
  {
   "cell_type": "code",
   "execution_count": 102,
   "id": "f719f908",
   "metadata": {},
   "outputs": [
    {
     "data": {
      "text/plain": [
       "array([ 6.36743319,  3.95217682,  0.43047007,  0.41318027,  0.58782662,\n",
       "        1.22570867,  1.71051818,  3.2880419 ,  0.55064622,  0.60258774,\n",
       "        2.59877685,  4.73502992,  1.51573575,  0.04553422,  1.55353846,\n",
       "        4.04253404,  2.90857396,  0.79822935,  6.38666717,  2.93791054,\n",
       "        1.67851935,  4.81271617,  0.25042148,  0.78280048,  0.34879249,\n",
       "        0.93975992,  2.23141964,  7.75261254,  0.21331165,  3.65877143,\n",
       "        1.12737875,  0.78050484,  1.65067252,  1.16759703, 18.85667082,\n",
       "        2.61465287,  0.89925866,  4.95785283,  2.06656382,  7.68676975,\n",
       "        3.91659919,  5.24910109,  2.24582604,  0.78223619,  2.59156535,\n",
       "        1.34419878,  2.83574951,  5.07311314,  0.79759648,  4.33120969,\n",
       "        3.03136535,  4.00922458,  5.01917561,  0.13708639,  0.65823631,\n",
       "        2.99400607,  2.46127832,  3.25979752,  9.77929506,  3.42177146,\n",
       "        3.40273204,  4.81130261,  1.43468334,  3.18007579,  4.93932504,\n",
       "        0.55875975,  1.36327865,  2.47946812,  4.14405376,  0.55407604,\n",
       "        0.75459851,  0.64488144,  1.73631984,  9.88866722,  0.27199213,\n",
       "        2.09042669,  1.39275805,  2.28468852,  0.62719424, 10.96867987,\n",
       "        1.58500268,  0.16625625,  2.88881752,  2.89935328,  4.50409153,\n",
       "        0.17132434,  2.32453673,  3.22482658,  2.83537994,  1.28098586,\n",
       "        6.44018063,  2.88330314,  2.92195958,  2.89269376,  1.80180068,\n",
       "        5.13378803, 11.55697651,  2.5935833 ,  2.10108251,  1.55239321])"
      ]
     },
     "execution_count": 102,
     "metadata": {},
     "output_type": "execute_result"
    }
   ],
   "source": [
    "# ваш код тут\n",
    "# например вот такое распределение https://docs.scipy.org/doc/scipy/reference/generated/scipy.stats.cosine.html#scipy.stats.cosine\n",
    "chi2 = sts.chi2(3)\n",
    "sample = chi2.rvs(100)\n",
    "sample"
   ]
  },
  {
   "cell_type": "code",
   "execution_count": 89,
   "id": "e20dcdaf",
   "metadata": {},
   "outputs": [],
   "source": [
    "real_mean = chi2.mean() # настоящее среднее случайной величины\n",
    "real_var = chi2.var() "
   ]
  },
  {
   "cell_type": "markdown",
   "id": "462bc869",
   "metadata": {},
   "source": [
    "## Постройте гистограмму выборки и теоретическую плотность распределения"
   ]
  },
  {
   "cell_type": "code",
   "execution_count": null,
   "id": "3a83c358",
   "metadata": {},
   "outputs": [],
   "source": [
    "# возьмём выборку из нормального распределения\n",
    "norm_rv = sts.norm(0, 1)\n",
    "sample = norm_rv.rvs(100)\n",
    "#samplez"
   ]
  },
  {
   "cell_type": "code",
   "execution_count": 119,
   "id": "28eb45de",
   "metadata": {},
   "outputs": [],
   "source": [
    "?sns.distplot"
   ]
  },
  {
   "cell_type": "code",
   "execution_count": null,
   "id": "7f5f9064",
   "metadata": {},
   "outputs": [],
   "source": []
  },
  {
   "cell_type": "code",
   "execution_count": 136,
   "id": "9984a2c1",
   "metadata": {},
   "outputs": [
    {
     "name": "stderr",
     "output_type": "stream",
     "text": [
      "/usr/local/lib/python3.9/site-packages/seaborn/distributions.py:2619: FutureWarning: `distplot` is a deprecated function and will be removed in a future version. Please adapt your code to use either `displot` (a figure-level function with similar flexibility) or `histplot` (an axes-level function for histograms).\n",
      "  warnings.warn(msg, FutureWarning)\n"
     ]
    },
    {
     "data": {
      "image/png": "[encoded data removed]",
      "text/plain": [
       "<Figure size 432x288 with 1 Axes>"
      ]
     },
     "metadata": {
      "needs_background": "light"
     },
     "output_type": "display_data"
    }
   ],
   "source": [
    "# plt.hist(sample, density=True, label = 'распределение из выборки')\n",
    "sns.distplot(sample, kde=True, label = 'выборка')\n",
    "x = np.linspace(0,25,1000)\n",
    "pdf = chi2.pdf(x)\n",
    "plt.plot(x, pdf, label='теоретическая плотность', color = 'red', alpha=0.85 ) \n",
    "plt.legend() \n",
    "plt.show()"
   ]
  },
  {
   "cell_type": "markdown",
   "id": "ec50138f",
   "metadata": {},
   "source": [
    "## Оценим распределение выборочного среднего для разных объёмов выборок\n",
    "Для этого постройте на одном полотне гистограмму выборочных средних и теоретическое распределение выборочных средних по ЦПТ для разных объёмов выборок.\n",
    "\n",
    "Для теоретического распределение используйте настоящие значения мат ожидания и дисперсии (не приближенные на основе выборки)."
   ]
  },
  {
   "cell_type": "code",
   "execution_count": 17,
   "id": "a6bd238e",
   "metadata": {},
   "outputs": [],
   "source": [
    "import seaborn as sns"
   ]
  },
  {
   "cell_type": "code",
   "execution_count": 22,
   "id": "bf3fce17",
   "metadata": {},
   "outputs": [
    {
     "name": "stderr",
     "output_type": "stream",
     "text": [
      "/usr/local/lib/python3.9/site-packages/seaborn/distributions.py:2619: FutureWarning: `distplot` is a deprecated function and will be removed in a future version. Please adapt your code to use either `displot` (a figure-level function with similar flexibility) or `histplot` (an axes-level function for histograms).\n",
      "  warnings.warn(msg, FutureWarning)\n",
      "/usr/local/lib/python3.9/site-packages/seaborn/distributions.py:2619: FutureWarning: `distplot` is a deprecated function and will be removed in a future version. Please adapt your code to use either `displot` (a figure-level function with similar flexibility) or `histplot` (an axes-level function for histograms).\n",
      "  warnings.warn(msg, FutureWarning)\n",
      "/usr/local/lib/python3.9/site-packages/seaborn/distributions.py:2619: FutureWarning: `distplot` is a deprecated function and will be removed in a future version. Please adapt your code to use either `displot` (a figure-level function with similar flexibility) or `histplot` (an axes-level function for histograms).\n",
      "  warnings.warn(msg, FutureWarning)\n",
      "/usr/local/lib/python3.9/site-packages/seaborn/distributions.py:2619: FutureWarning: `distplot` is a deprecated function and will be removed in a future version. Please adapt your code to use either `displot` (a figure-level function with similar flexibility) or `histplot` (an axes-level function for histograms).\n",
      "  warnings.warn(msg, FutureWarning)\n",
      "/usr/local/lib/python3.9/site-packages/seaborn/distributions.py:2619: FutureWarning: `distplot` is a deprecated function and will be removed in a future version. Please adapt your code to use either `displot` (a figure-level function with similar flexibility) or `histplot` (an axes-level function for histograms).\n",
      "  warnings.warn(msg, FutureWarning)\n"
     ]
    },
    {
     "data": {
      "text/plain": [
       "[]"
      ]
     },
     "execution_count": 22,
     "metadata": {},
     "output_type": "execute_result"
    },
    {
     "data": {
      "image/png": "[encoded data removed]",
      "text/plain": [
       "<Figure size 432x288 with 1 Axes>"
      ]
     },
     "metadata": {
      "needs_background": "light"
     },
     "output_type": "display_data"
    }
   ],
   "source": [
    "mu = 5\n",
    "sigma = 3\n",
    "norm_rv = sts.norm(mu, sigma)\n",
    "alpha = 0.05\n",
    "N = [10, 50, 100, 1000, 10000]\n",
    "#colors = ['cyan', \"purple\", \"orange\", \"yellow\"]\n",
    "for n in N:\n",
    "    sample = norm_rv.rvs(n)\n",
    "    pdf = norm_rv.pdf(sample)\n",
    "    #plt.hist(sample, alpha = .6) \n",
    "    sns.distplot(sample, label = f'{n}')\n",
    "     \n",
    "x = np.linspace(-5,15,100)\n",
    "pdf = norm_rv.pdf(x)\n",
    "plt.plot(x, pdf, alpha=1, color = 'black', label='Теоретическая функция распределения')\n",
    "plt.plot()"
   ]
  }
 ],
 "metadata": {
  "kernelspec": {
   "display_name": "Python 3 (ipykernel)",
   "language": "python",
   "name": "python3"
  },
  "language_info": {
   "codemirror_mode": {
    "name": "ipython",
    "version": 3
   },
   "file_extension": ".py",
   "mimetype": "text/x-python",
   "name": "python",
   "nbconvert_exporter": "python",
   "pygments_lexer": "ipython3",
   "version": "3.9.13"
  }
 },
 "nbformat": 4,
 "nbformat_minor": 5
}
